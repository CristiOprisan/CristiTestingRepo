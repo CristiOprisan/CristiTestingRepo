{
 "cells": [
  {
   "cell_type": "code",
   "execution_count": 1,
   "metadata": {},
   "outputs": [],
   "source": [
    "import sqlalchemy, pyodbc\n",
    "import pandas as pd\n",
    "import pymysql.cursors\n",
    "from sqlalchemy import create_engine\n",
    "import psycopg2\n",
    "import numpy"
   ]
  },
  {
   "cell_type": "markdown",
   "metadata": {},
   "source": [
    "#### Create the connection to servers from where we will access our data"
   ]
  },
  {
   "cell_type": "code",
   "execution_count": 2,
   "metadata": {},
   "outputs": [],
   "source": [
    "conn_extract_Servers = pyodbc.connect(\n",
    "    r'DRIVER={SQL Server Native Client 11.0};'\n",
    "    r'SERVER=cds-hub-11.ad.ea.com;'\n",
    "    r'DATABASE=BUGHUB;'\n",
    "    r'Trusted_Connection=yes;'\n",
    "    )"
   ]
  },
  {
   "cell_type": "code",
   "execution_count": 3,
   "metadata": {
    "scrolled": true
   },
   "outputs": [
    {
     "name": "stdout",
     "output_type": "stream",
     "text": [
      "Picking Bugs from Bughub\n"
     ]
    }
   ],
   "source": [
    "## 33 sec. Used when comparing src vs Bughub\n",
    "print('Picking Bugs from Bughub')\n",
    "existing = pd.read_sql(\"\"\"select distinct BugIdUnique as id, BugId as issuenum, ProjectId as project, SourceServerId as source from staging.Bugs\n",
    "where IsDeleted = 0\"\"\", con = conn_extract_Servers)"
   ]
  },
  {
   "cell_type": "code",
   "execution_count": 4,
   "metadata": {
    "scrolled": true
   },
   "outputs": [
    {
     "name": "stdout",
     "output_type": "stream",
     "text": [
      "Bugs from Bughub Imported Successfully\n",
      "Picking Source Servers List\n"
     ]
    }
   ],
   "source": [
    "print('Bugs from Bughub Imported Successfully')\n",
    "print('Picking Source Servers List')\n",
    "df = pd.read_sql(\"\"\"SELECT * from nrtetl.etlsources s where isactive = 1 and SourceSystem in ('Jira','Devtrack') and ID <> 33\"\"\", con=conn_extract_Servers)"
   ]
  },
  {
   "cell_type": "markdown",
   "metadata": {},
   "source": [
    "#### Create a dictionary which contains the templates of the connection strings"
   ]
  },
  {
   "cell_type": "code",
   "execution_count": 5,
   "metadata": {},
   "outputs": [],
   "source": [
    "templates = {\n",
    "    'MSSQL_PASS': r'DRIVER={{SQL Server Native Client 11.0}};SERVER={SERVER};DATABASE={DATABASE};UID={UID};PWD={PWD};',\n",
    "    'MSSQL_I': r'DRIVER={{SQL Server Native Client 11.0}};SERVER={SERVER};DATABASE={DATABASE};Trusted_Connection=yes;',\n",
    "    'MySQL': r'host={host};db={db};user={user};password={password};',\n",
    "    'PostgreSql_PASS': r'host={host};dbname={dbname};user={user};password={password};'\n",
    "}"
   ]
  },
  {
   "cell_type": "markdown",
   "metadata": {},
   "source": [
    "#### Tables that will need to be accessed with the query"
   ]
  },
  {
   "cell_type": "code",
   "execution_count": 6,
   "metadata": {},
   "outputs": [],
   "source": [
    "lookup ={'Jira':'jiraissue' ,'Devtrack':'bug'}"
   ]
  },
  {
   "cell_type": "markdown",
   "metadata": {},
   "source": [
    "#### Create a dictionary which contains all the information about the servers that need to be accessed"
   ]
  },
  {
   "cell_type": "code",
   "execution_count": 7,
   "metadata": {},
   "outputs": [],
   "source": [
    "connections = {}\n",
    "for index, row in df.iterrows():\n",
    "    if row['ServerType'] == 'SqlServer':\n",
    "        ## SQL SERVER PASS\n",
    "        if 'User' in str(row['ConnectionString']):\n",
    "            values = {}\n",
    "            for ix in row['ConnectionString'].split(';'):\n",
    "                if 'Data Source' in ix:\n",
    "                    values['SERVER']= ix.split('=')[1]\n",
    "                if 'Initial Catalog' in ix:\n",
    "                    values['DATABASE'] = ix.split('=')[1]\n",
    "                if 'User' in ix:\n",
    "                    values['UID'] = ix.split('=')[1]\n",
    "                if 'Password' in ix:\n",
    "                    try:\n",
    "                        values['PWD'] = ix.split(':')[1]\n",
    "                    except:\n",
    "                        values['PWD'] = ix.split('=')[1]\n",
    "            connections[row['Id']]=['MSSQL',lookup[row['SourceSystem']],templates['MSSQL_PASS'].format(**values)]\n",
    "        else:\n",
    "            ## SQL SERVER I\n",
    "            values = {}\n",
    "            for ix in row['ConnectionString'].split(';'):\n",
    "                if 'Data Source' in ix:\n",
    "                    values['SERVER']= ix.split('=')[1]#.split(',')[0]\n",
    "                if 'Initial Catalog' in ix:\n",
    "                    values['DATABASE'] = ix.split('=')[1]\n",
    "            connections[row['Id']]=['MSSQL',lookup[row['SourceSystem']],templates['MSSQL_I'].format(**values)]\n",
    "    if row['ServerType'] == 'MySql':\n",
    "        ## MySql\n",
    "        if 'user' in str(row['ConnectionString']):\n",
    "            values = {}\n",
    "            for ix in row['ConnectionString'].split(';'):\n",
    "                if 'server' in ix:\n",
    "                    values['host']= ix.split('=')[1]\n",
    "                if 'database' in ix:\n",
    "                    values['db'] = ix.split('=')[1]\n",
    "                if 'user' in ix:\n",
    "                    values['user'] = ix.split('=')[1]\n",
    "                if 'password' in ix:\n",
    "                    values['password'] = ix.split('d=')[1]\n",
    "            connections[row['Id']]=['MySQL',lookup[row['SourceSystem']],values]\n",
    "    if row['ServerType'] == 'PostgreSql':\n",
    "        ## PostgreSql\n",
    "        if 'Password' in str(row['ConnectionString']):\n",
    "            values = {}\n",
    "            for ix in row['ConnectionString'].split(';'):\n",
    "                if 'Server' in ix:\n",
    "                    values['host']= ix.split('=')[1]\n",
    "                if 'Database' in ix:\n",
    "                    values['dbname'] = ix.split('=')[1]\n",
    "                if 'User' in ix:\n",
    "                    values['user'] = ix.split('=')[1]\n",
    "                if 'Password' in ix:\n",
    "                    values['password'] = ix.split('=')[1]\n",
    "            connections[row['Id']]=['PostgreSql',lookup[row['SourceSystem']],values]\n",
    "        else:\n",
    "            ## PostgreSql wthout PASS\n",
    "            values = {}\n",
    "            for ix in row['ConnectionString'].split(';'):\n",
    "                if 'Server' in ix:\n",
    "                    values['host']= ix.split('=')[1]\n",
    "                if 'Database' in ix:\n",
    "                    values['dbname'] = ix.split('=')[1]\n",
    "                if 'User' in ix:\n",
    "                    values['user'] = ix.split('=')[1]\n",
    "            connections[row['Id']]=['PostgreSqlPass',lookup[row['SourceSystem']],values]"
   ]
  },
  {
   "cell_type": "markdown",
   "metadata": {},
   "source": [
    "#### Create a function which loops through the servers and execute a query based on the server type (SQL,MySQL,PostgreSQL)"
   ]
  },
  {
   "cell_type": "code",
   "execution_count": 8,
   "metadata": {},
   "outputs": [],
   "source": [
    "def query(server,servertype,connstring,table):\n",
    "    if servertype == 'MSSQL':\n",
    "        if table =='jiraissue':\n",
    "            try:\n",
    "                if server == 27:\n",
    "                    df = pd.read_sql('select id ,issuenum , project from {} where ID not in (SELECT DISTINCT ID FROM {} WHERE Security IS not NULL)'.format(table,table),con=pyodbc.connect(connstring))\n",
    "                else:  \n",
    "                    df = pd.read_sql('select id ,issuenum , project from {}'.format(table),con=pyodbc.connect(connstring))\n",
    "                df['source'] = server\n",
    "                return df\n",
    "            except:\n",
    "                pd.DataFrame()\n",
    "        if table =='bug':\n",
    "            try:\n",
    "                df = pd.read_sql('Select bugID as id, bugID as issuenum , ProjectID as project from {}'.format(table),con=pyodbc.connect(connstring))\n",
    "                df['source'] = server\n",
    "                return df\n",
    "            except:\n",
    "                pd.DataFrame()\n",
    "    elif servertype == 'MySQL':\n",
    "        try:\n",
    "            con = pymysql.connect(host=connstring['host'],\n",
    "                             user=connstring['user'],\n",
    "                             password=connstring['password'],\n",
    "                             db=connstring['db'],\n",
    "                             cursorclass=pymysql.cursors.DictCursor)\n",
    "            df = pd.read_sql('Select id, issuenum , project from {}'.format(table),con=con)\n",
    "            df['source'] = server\n",
    "            return df\n",
    "        except:\n",
    "            pd.DataFrame()\n",
    "    elif servertype == 'PostgreSql':\n",
    "        #try:\n",
    "        con = psycopg2.connect(host=connstring['host'],\n",
    "                             user=connstring['user'],\n",
    "                             password=connstring['password'],\n",
    "                             dbname=connstring['dbname']\n",
    "                             )\n",
    "        df = pd.read_sql('select id, issuenum , project from {}'.format(table),con=con)\n",
    "        df['source'] = server\n",
    "        return df\n",
    "    #elif servertype == 'PostgreSqlPass':\n",
    "        #try:\n",
    "        #con = psycopg2.connect(host=connstring['host'],\n",
    "                             #user=connstring['user'],\n",
    "                             #dbname=connstring['dbname']\n",
    "                             #)\n",
    "        #df = pd.read_sql('select id, issuenum , project from {}'.format(table),con=con)\n",
    "        #df['source'] = server\n",
    "        #return df"
   ]
  },
  {
   "cell_type": "markdown",
   "metadata": {},
   "source": [
    "#### Store the results"
   ]
  },
  {
   "cell_type": "code",
   "execution_count": 9,
   "metadata": {},
   "outputs": [],
   "source": [
    "results = {}"
   ]
  },
  {
   "cell_type": "code",
   "execution_count": 11,
   "metadata": {},
   "outputs": [
    {
     "name": "stdout",
     "output_type": "stream",
     "text": [
      "Picking Bugs from Sources\n"
     ]
    },
    {
     "ename": "OperationalError",
     "evalue": "could not translate host name \"jira-itoys-ro.c0hiis7ptxfm.us-west-2.rds.amazonaws.com\" to address: Unknown host\n",
     "output_type": "error",
     "traceback": [
      "\u001b[1;31m---------------------------------------------------------------------------\u001b[0m",
      "\u001b[1;31mOperationalError\u001b[0m                          Traceback (most recent call last)",
      "\u001b[1;32m<ipython-input-11-4f574fbccc4e>\u001b[0m in \u001b[0;36m<module>\u001b[1;34m\u001b[0m\n\u001b[0;32m      3\u001b[0m \u001b[1;32mfor\u001b[0m \u001b[0mk\u001b[0m\u001b[1;33m,\u001b[0m\u001b[0mv\u001b[0m \u001b[1;32min\u001b[0m \u001b[0mconnections\u001b[0m\u001b[1;33m.\u001b[0m\u001b[0mitems\u001b[0m\u001b[1;33m(\u001b[0m\u001b[1;33m)\u001b[0m\u001b[1;33m:\u001b[0m\u001b[1;33m\u001b[0m\u001b[1;33m\u001b[0m\u001b[0m\n\u001b[0;32m      4\u001b[0m     \u001b[1;31m#print (k,v)\u001b[0m\u001b[1;33m\u001b[0m\u001b[1;33m\u001b[0m\u001b[1;33m\u001b[0m\u001b[0m\n\u001b[1;32m----> 5\u001b[1;33m     \u001b[0mresults\u001b[0m\u001b[1;33m[\u001b[0m\u001b[0mk\u001b[0m\u001b[1;33m]\u001b[0m\u001b[1;33m=\u001b[0m\u001b[0mquery\u001b[0m\u001b[1;33m(\u001b[0m\u001b[0mk\u001b[0m\u001b[1;33m,\u001b[0m\u001b[0mv\u001b[0m\u001b[1;33m[\u001b[0m\u001b[1;36m0\u001b[0m\u001b[1;33m]\u001b[0m\u001b[1;33m,\u001b[0m\u001b[0mv\u001b[0m\u001b[1;33m[\u001b[0m\u001b[1;36m2\u001b[0m\u001b[1;33m]\u001b[0m\u001b[1;33m,\u001b[0m\u001b[0mv\u001b[0m\u001b[1;33m[\u001b[0m\u001b[1;36m1\u001b[0m\u001b[1;33m]\u001b[0m\u001b[1;33m)\u001b[0m\u001b[1;33m\u001b[0m\u001b[1;33m\u001b[0m\u001b[0m\n\u001b[0m",
      "\u001b[1;32m<ipython-input-8-a39308e00cff>\u001b[0m in \u001b[0;36mquery\u001b[1;34m(server, servertype, connstring, table)\u001b[0m\n\u001b[0;32m     35\u001b[0m                              \u001b[0muser\u001b[0m\u001b[1;33m=\u001b[0m\u001b[0mconnstring\u001b[0m\u001b[1;33m[\u001b[0m\u001b[1;34m'user'\u001b[0m\u001b[1;33m]\u001b[0m\u001b[1;33m,\u001b[0m\u001b[1;33m\u001b[0m\u001b[1;33m\u001b[0m\u001b[0m\n\u001b[0;32m     36\u001b[0m                              \u001b[0mpassword\u001b[0m\u001b[1;33m=\u001b[0m\u001b[0mconnstring\u001b[0m\u001b[1;33m[\u001b[0m\u001b[1;34m'password'\u001b[0m\u001b[1;33m]\u001b[0m\u001b[1;33m,\u001b[0m\u001b[1;33m\u001b[0m\u001b[1;33m\u001b[0m\u001b[0m\n\u001b[1;32m---> 37\u001b[1;33m                              \u001b[0mdbname\u001b[0m\u001b[1;33m=\u001b[0m\u001b[0mconnstring\u001b[0m\u001b[1;33m[\u001b[0m\u001b[1;34m'dbname'\u001b[0m\u001b[1;33m]\u001b[0m\u001b[1;33m\u001b[0m\u001b[1;33m\u001b[0m\u001b[0m\n\u001b[0m\u001b[0;32m     38\u001b[0m                              )\n\u001b[0;32m     39\u001b[0m         \u001b[0mdf\u001b[0m \u001b[1;33m=\u001b[0m \u001b[0mpd\u001b[0m\u001b[1;33m.\u001b[0m\u001b[0mread_sql\u001b[0m\u001b[1;33m(\u001b[0m\u001b[1;34m'select id, issuenum , project from {}'\u001b[0m\u001b[1;33m.\u001b[0m\u001b[0mformat\u001b[0m\u001b[1;33m(\u001b[0m\u001b[0mtable\u001b[0m\u001b[1;33m)\u001b[0m\u001b[1;33m,\u001b[0m\u001b[0mcon\u001b[0m\u001b[1;33m=\u001b[0m\u001b[0mcon\u001b[0m\u001b[1;33m)\u001b[0m\u001b[1;33m\u001b[0m\u001b[1;33m\u001b[0m\u001b[0m\n",
      "\u001b[1;32m~\\AppData\\Local\\Continuum\\anaconda3\\lib\\site-packages\\psycopg2\\__init__.py\u001b[0m in \u001b[0;36mconnect\u001b[1;34m(dsn, connection_factory, cursor_factory, **kwargs)\u001b[0m\n\u001b[0;32m    124\u001b[0m \u001b[1;33m\u001b[0m\u001b[0m\n\u001b[0;32m    125\u001b[0m     \u001b[0mdsn\u001b[0m \u001b[1;33m=\u001b[0m \u001b[0m_ext\u001b[0m\u001b[1;33m.\u001b[0m\u001b[0mmake_dsn\u001b[0m\u001b[1;33m(\u001b[0m\u001b[0mdsn\u001b[0m\u001b[1;33m,\u001b[0m \u001b[1;33m**\u001b[0m\u001b[0mkwargs\u001b[0m\u001b[1;33m)\u001b[0m\u001b[1;33m\u001b[0m\u001b[1;33m\u001b[0m\u001b[0m\n\u001b[1;32m--> 126\u001b[1;33m     \u001b[0mconn\u001b[0m \u001b[1;33m=\u001b[0m \u001b[0m_connect\u001b[0m\u001b[1;33m(\u001b[0m\u001b[0mdsn\u001b[0m\u001b[1;33m,\u001b[0m \u001b[0mconnection_factory\u001b[0m\u001b[1;33m=\u001b[0m\u001b[0mconnection_factory\u001b[0m\u001b[1;33m,\u001b[0m \u001b[1;33m**\u001b[0m\u001b[0mkwasync\u001b[0m\u001b[1;33m)\u001b[0m\u001b[1;33m\u001b[0m\u001b[1;33m\u001b[0m\u001b[0m\n\u001b[0m\u001b[0;32m    127\u001b[0m     \u001b[1;32mif\u001b[0m \u001b[0mcursor_factory\u001b[0m \u001b[1;32mis\u001b[0m \u001b[1;32mnot\u001b[0m \u001b[1;32mNone\u001b[0m\u001b[1;33m:\u001b[0m\u001b[1;33m\u001b[0m\u001b[1;33m\u001b[0m\u001b[0m\n\u001b[0;32m    128\u001b[0m         \u001b[0mconn\u001b[0m\u001b[1;33m.\u001b[0m\u001b[0mcursor_factory\u001b[0m \u001b[1;33m=\u001b[0m \u001b[0mcursor_factory\u001b[0m\u001b[1;33m\u001b[0m\u001b[1;33m\u001b[0m\u001b[0m\n",
      "\u001b[1;31mOperationalError\u001b[0m: could not translate host name \"jira-itoys-ro.c0hiis7ptxfm.us-west-2.rds.amazonaws.com\" to address: Unknown host\n"
     ]
    }
   ],
   "source": [
    "#3min14sec\n",
    "print('Picking Bugs from Sources')\n",
    "for k,v in connections.items():\n",
    "    #print (k,v)\n",
    "    results[k]=query(k,v[0],v[2],v[1])"
   ]
  },
  {
   "cell_type": "markdown",
   "metadata": {},
   "source": [
    "### Check from which server the data was not imported"
   ]
  },
  {
   "cell_type": "code",
   "execution_count": null,
   "metadata": {},
   "outputs": [],
   "source": [
    "for k,v in results.items():\n",
    "    try:\n",
    "        print(k, v.shape)\n",
    "    except:\n",
    "        print(k, 'ERROR')"
   ]
  },
  {
   "cell_type": "code",
   "execution_count": null,
   "metadata": {},
   "outputs": [],
   "source": [
    "print('Bugs Imported Successfully from Sources')\n",
    "final_table = pd.DataFrame()"
   ]
  },
  {
   "cell_type": "code",
   "execution_count": null,
   "metadata": {},
   "outputs": [],
   "source": [
    "for i in results.values():\n",
    "    final_table = final_table.append(i,ignore_index=True)"
   ]
  },
  {
   "cell_type": "markdown",
   "metadata": {},
   "source": [
    "# Insert the data into a table and update the insert date"
   ]
  },
  {
   "cell_type": "code",
   "execution_count": null,
   "metadata": {},
   "outputs": [],
   "source": [
    "engine = create_engine ('mssql+pyodbc://cds-hub-30.ad.ea.com/'+'DAPlayground'+'?driver=SQL+Server',legacy_schema_aliasing=False)"
   ]
  },
  {
   "cell_type": "code",
   "execution_count": null,
   "metadata": {},
   "outputs": [],
   "source": [
    "check = pd.merge(final_table, existing, how='left', left_on=['source','project','id'], right_on=['source','project','id'])"
   ]
  },
  {
   "cell_type": "markdown",
   "metadata": {},
   "source": [
    "# Missing issues"
   ]
  },
  {
   "cell_type": "markdown",
   "metadata": {},
   "source": [
    "MISSINGGGG = check[check['issuenum_y'].isnull()]"
   ]
  },
  {
   "cell_type": "markdown",
   "metadata": {},
   "source": [
    "cntMISSINGGGG = MISSINGGGG.groupby(['source','project']).count()"
   ]
  },
  {
   "cell_type": "markdown",
   "metadata": {},
   "source": [
    "cntMISSINGGGG"
   ]
  },
  {
   "cell_type": "markdown",
   "metadata": {},
   "source": [
    "cntMISSINGGGG.to_csv('cntMISSINGGGG.CSV')"
   ]
  },
  {
   "cell_type": "markdown",
   "metadata": {},
   "source": [
    "is_12001 = MISSINGGGG['project'] == 12001"
   ]
  },
  {
   "cell_type": "markdown",
   "metadata": {},
   "source": [
    "counterrors_13101 = MISSINGGGG[is_13101]"
   ]
  },
  {
   "cell_type": "markdown",
   "metadata": {},
   "source": [
    "##export to csv if needed\n",
    "counterrors_13101.to_csv('counterrors_13101.csv')"
   ]
  },
  {
   "cell_type": "code",
   "execution_count": null,
   "metadata": {},
   "outputs": [],
   "source": [
    "print('Importing mismatches')\n",
    "check[check['issuenum_y'].isnull()].to_sql(name='Missing_Bugs', con=engine, if_exists = 'append', index=False, chunksize = 200)"
   ]
  },
  {
   "cell_type": "code",
   "execution_count": null,
   "metadata": {},
   "outputs": [],
   "source": [
    "print('Mismatches Imported Successfully')\n",
    "connection = engine.connect()"
   ]
  },
  {
   "cell_type": "code",
   "execution_count": null,
   "metadata": {},
   "outputs": [],
   "source": [
    "connection.execute(\"\"\"update Missing_Bugs\n",
    "set insert_date = GETUTCDATE()\n",
    "where insert_date IS NULL\"\"\")"
   ]
  },
  {
   "cell_type": "code",
   "execution_count": null,
   "metadata": {},
   "outputs": [],
   "source": [
    "connection.close()"
   ]
  },
  {
   "cell_type": "code",
   "execution_count": null,
   "metadata": {},
   "outputs": [],
   "source": [
    "con = pyodbc.connect (\n",
    "    r'DRIVER={SQL Server Native Client 11.0};'\n",
    "    r'SERVER=cds-hub-30.ad.ea.com;'\n",
    "    r'DATABASE=DAPlayground;'\n",
    "    r'Trusted_Connection=yes;'\n",
    ")"
   ]
  },
  {
   "cell_type": "code",
   "execution_count": null,
   "metadata": {},
   "outputs": [],
   "source": [
    "cur = con.cursor()"
   ]
  },
  {
   "cell_type": "code",
   "execution_count": null,
   "metadata": {},
   "outputs": [],
   "source": [
    "cur.execute(\"\"\"select * into previous_date from (select distinct Insert_date, dense_rank() OVER (ORDER BY Insert_date DESC) AS Previous_date from Missing_Bugs) as previous_date\"\"\")\n",
    "cur.execute(\"\"\"select * into latest_bugs from (select distinct issuenum_x, source, project from Missing_Bugs where Insert_date = (select max(Insert_date) from Missing_Bugs)) as latest_bugs\"\"\")"
   ]
  },
  {
   "cell_type": "code",
   "execution_count": null,
   "metadata": {},
   "outputs": [],
   "source": [
    "cur.execute(\"\"\"update a\n",
    "set IsPersistent = 'YES'\n",
    "from Missing_Bugs a\n",
    "inner join latest_bugs b\n",
    "on a.issuenum_x = b.issuenum_x\n",
    "and a.source = b.source\n",
    "and a.project = b.project\n",
    "inner join (select distinct issuenum_x, source, project from Missing_Bugs where Insert_date = (select distinct Insert_date from previous_date where Previous_date = 2)) as  c\n",
    "on b.issuenum_x = c.issuenum_x\n",
    "and b.project = c.project\n",
    "and b.source = c.source\n",
    "where a.Insert_date = (select max(Insert_date) from Missing_Bugs)\"\"\")"
   ]
  },
  {
   "cell_type": "code",
   "execution_count": null,
   "metadata": {},
   "outputs": [],
   "source": [
    "cur.execute(\"\"\"drop table previous_date\"\"\")\n",
    "cur.execute(\"\"\"drop table latest_bugs\"\"\")"
   ]
  },
  {
   "cell_type": "code",
   "execution_count": null,
   "metadata": {},
   "outputs": [],
   "source": [
    "con.commit()\n",
    "con.close()"
   ]
  },
  {
   "cell_type": "code",
   "execution_count": null,
   "metadata": {},
   "outputs": [],
   "source": [
    "print('Finished')"
   ]
  },
  {
   "cell_type": "markdown",
   "metadata": {},
   "source": [
    "# Test a connection if it works"
   ]
  },
  {
   "cell_type": "markdown",
   "metadata": {},
   "source": [
    "test_connection = pyodbc.connect(\n",
    "    r'DRIVER={SQL Server Native Client 11.0};'\n",
    "    r'SERVER=DICE-SQLDEV.dice.ad.ea.com;'\n",
    "    r'DATABASE=jira;'\n",
    "    r'Trusted_Connection=yes;'\n",
    "    )"
   ]
  },
  {
   "cell_type": "markdown",
   "metadata": {},
   "source": [
    "test_set = pd.read_sql(\"\"\"select top 10 * from jiraissue\"\"\", con = test_connection)"
   ]
  },
  {
   "cell_type": "markdown",
   "metadata": {},
   "source": [
    "test_connection = pymysql.connect(host='jira-repldb.sphd.io',\n",
    "                             user='wwqapmosvc',\n",
    "                             password='1qaz2wsx!QAZ@WSX',\n",
    "                             db = 'jiradb',\n",
    "                             cursorclass=pymysql.cursors.DictCursor)"
   ]
  },
  {
   "cell_type": "markdown",
   "metadata": {},
   "source": [
    "test_set = pd.read_sql(\"\"\"select top 10 * from jiraissue\"\"\", con = test_connection)"
   ]
  },
  {
   "cell_type": "code",
   "execution_count": null,
   "metadata": {},
   "outputs": [],
   "source": [
    "con = pymysql.connect(host= 'rca-jiradb01.rws.ad.ea.com',\n",
    "                             user = 'dtreporting',\n",
    "                             password = 'EhVz,Bub%V&b4=FetRtc1cx9vG',\n",
    "                             db = 'odin_jiradb',\n",
    "                             cursorclass = pymysql.cursors.DictCursor)"
   ]
  },
  {
   "cell_type": "code",
   "execution_count": null,
   "metadata": {},
   "outputs": [],
   "source": [
    "con = pymysql.connect(host= 'ca1-testrailrpt.ad.ea.com',\n",
    "                             user = 'cdshubs',\n",
    "                             password = 'cdshubs',\n",
    "                             db = 'testrail',\n",
    "                             cursorclass = pymysql.cursors.DictCursor)"
   ]
  },
  {
   "cell_type": "code",
   "execution_count": null,
   "metadata": {},
   "outputs": [],
   "source": [
    "test = pd.read_sql('Select id, issuenum , project from jiraissue',con=con)"
   ]
  },
  {
   "cell_type": "code",
   "execution_count": null,
   "metadata": {},
   "outputs": [],
   "source": [
    "test"
   ]
  },
  {
   "cell_type": "code",
   "execution_count": null,
   "metadata": {},
   "outputs": [],
   "source": [
    "con.close()"
   ]
  },
  {
   "cell_type": "code",
   "execution_count": null,
   "metadata": {},
   "outputs": [],
   "source": []
  }
 ],
 "metadata": {
  "kernelspec": {
   "display_name": "Python 3",
   "language": "python",
   "name": "python3"
  },
  "language_info": {
   "codemirror_mode": {
    "name": "ipython",
    "version": 3
   },
   "file_extension": ".py",
   "mimetype": "text/x-python",
   "name": "python",
   "nbconvert_exporter": "python",
   "pygments_lexer": "ipython3",
   "version": "3.7.3"
  }
 },
 "nbformat": 4,
 "nbformat_minor": 2
}
